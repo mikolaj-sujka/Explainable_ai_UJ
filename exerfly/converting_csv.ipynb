{
 "cells": [
  {
   "cell_type": "code",
   "execution_count": null,
   "id": "484d4465",
   "metadata": {},
   "outputs": [
    {
     "name": "stdout",
     "output_type": "stream",
     "text": [
      "Gotowe – wygenerowano plik 'angle_time_combined.csv'\n"
     ]
    }
   ],
   "source": [
    "import pandas as pd\n",
    "\n",
    "# 1) Wczytanie debug-pliku\n",
    "df = pd.read_csv(\n",
    "    'exerfly-1749483170071-debug.csv',\n",
    "    skipinitialspace=True\n",
    ")\n",
    "\n",
    "# 2) Upewniamy się, że kolumny są numeryczne\n",
    "df['Angle']    = pd.to_numeric(df['Angle'], errors='raise')\n",
    "df['Time (µs)'] = pd.to_numeric(df['Time (µs)'], errors='raise')\n",
    "\n",
    "# 3) Łączymy dwa pola w jeden łańcuch \"angle,time\"\n",
    "#    Dzięki sep=';' poniższy plik nie będzie otoczony cudzysłowami\n",
    "out = pd.DataFrame()\n",
    "out['time,angle'] = (\n",
    "    df['Time (µs)'].astype(str)\n",
    "    + ',' +\n",
    "    df['Angle'].astype(str)\n",
    ")\n",
    "\n",
    "# 4) Zapis do CSV obok notebooka – używamy średnika jako delimiter,\n",
    "#    żeby wartości wewnątrz pola (oddzielone przecinkiem) nie były cytowane.\n",
    "out.to_csv('angle_time_combined.csv', index=False, sep=';')\n",
    "\n",
    "print(\"Gotowe – wygenerowano plik 'angle_time_combined.csv'\")\n"
   ]
  },
  {
   "cell_type": "code",
   "execution_count": 36,
   "id": "acc9494b",
   "metadata": {},
   "outputs": [
    {
     "name": "stdout",
     "output_type": "stream",
     "text": [
      "Zapisano pliki:\n",
      " - only_in_df1.csv          (rekordy tylko w df1)\n",
      " - only_in_df2.csv          (rekordy tylko w df2)\n",
      " - comparison_summary.txt   (podsumowanie porównania)\n"
     ]
    }
   ],
   "source": [
    "import pandas as pd\n",
    "\n",
    "# --- 1) Wczytanie pierwszego pliku z metadanymi ---\n",
    "df1 = pd.read_csv(\n",
    "    'exerfly-1749460260552.csv',\n",
    "    skiprows=16,                          # pomijamy pierwsze 16 linii\n",
    "    usecols=['Time (µs)', 'Angle (°)']    # tylko te dwie kolumny\n",
    ").rename(\n",
    "    columns={'Time (µs)': 'time', 'Angle (°)': 'shaftAngle'}\n",
    ")\n",
    "\n",
    "# --- 2) Wczytanie drugiego pliku (\"debug\") ---\n",
    "df2 = pd.read_csv(\n",
    "    '0.1-exerfly-1749460474580-debug.csv',\n",
    "    usecols=['time', 'shaftAngle']        # plik już ma dwie kolumny\n",
    ")\n",
    "# Upewniamy się, że są typami numerycznymi\n",
    "df2['time'] = pd.to_numeric(df2['time'], errors='raise')\n",
    "df2['shaftAngle'] = pd.to_numeric(df2['shaftAngle'], errors='raise')\n",
    "\n",
    "# --- 3) Porównanie liczby rekordów ---\n",
    "n1 = len(df1)\n",
    "n2 = len(df2)\n",
    "diff = abs(n1 - n2)\n",
    "\n",
    "# --- 4) Identyfikacja unikalnych rekordów ---\n",
    "only_in_df1 = (\n",
    "    df1.merge(df2, on=['time','shaftAngle'], how='left', indicator=True)\n",
    "       .query(\"_merge == 'left_only'\")\n",
    "       .drop(columns=['_merge'])\n",
    ")\n",
    "only_in_df2 = (\n",
    "    df2.merge(df1, on=['time','shaftAngle'], how='left', indicator=True)\n",
    "       .query(\"_merge == 'left_only'\")\n",
    "       .drop(columns=['_merge'])\n",
    ")\n",
    "\n",
    "# --- 5) Zapis wyników do plików ---\n",
    "only_in_df1.to_csv('only_in_df1.csv', index=False)\n",
    "only_in_df2.to_csv('only_in_df2.csv', index=False)\n",
    "\n",
    "# --- 6) Zapis podsumowania porównania ---\n",
    "with open('comparison_summary.txt', 'w', encoding='utf-8') as f:\n",
    "    f.write(f\"Liczba rekordów w df1: {n1}\\n\")\n",
    "    f.write(f\"Liczba rekordów w df2: {n2}\\n\")\n",
    "    f.write(f\"Różnica: {diff} rekordów\\n\")\n",
    "    f.write(f\"Rekordy unikalne w df1: {len(only_in_df1)}\\n\")\n",
    "    f.write(f\"Rekordy unikalne w df2: {len(only_in_df2)}\\n\")\n",
    "\n",
    "print(\"Zapisano pliki:\")\n",
    "print(\" - only_in_df1.csv          (rekordy tylko w df1)\")\n",
    "print(\" - only_in_df2.csv          (rekordy tylko w df2)\")\n",
    "print(\" - comparison_summary.txt   (podsumowanie porównania)\")\n"
   ]
  }
 ],
 "metadata": {
  "kernelspec": {
   "display_name": "Python 3",
   "language": "python",
   "name": "python3"
  },
  "language_info": {
   "codemirror_mode": {
    "name": "ipython",
    "version": 3
   },
   "file_extension": ".py",
   "mimetype": "text/x-python",
   "name": "python",
   "nbconvert_exporter": "python",
   "pygments_lexer": "ipython3",
   "version": "3.9.12"
  }
 },
 "nbformat": 4,
 "nbformat_minor": 5
}
